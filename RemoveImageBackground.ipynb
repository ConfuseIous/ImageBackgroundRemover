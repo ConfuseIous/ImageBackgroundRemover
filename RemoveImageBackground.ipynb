{
 "cells": [
  {
   "cell_type": "code",
   "execution_count": 1,
   "metadata": {
    "id": "eIDj3sahANgj"
   },
   "outputs": [],
   "source": [
    "import cv2\n",
    "import torch\n",
    "from PIL import Image\n",
    "from torchvision import transforms\n",
    "from matplotlib import pyplot as plt\n",
    "\n",
    "def load_model():\n",
    "  model = torch.hub.load('pytorch/vision:v0.6.0', 'deeplabv3_resnet101', pretrained=True)\n",
    "  model.eval()\n",
    "  return model\n",
    "\n",
    "def make_transparent_foreground(pic, mask):\n",
    "  # split the image into channels\n",
    "  b, g, r = cv2.split(np.array(pic).astype('uint8'))\n",
    "  # add an alpha channel with and fill all with transparent pixels (max 255)\n",
    "  a = np.ones(mask.shape, dtype='uint8') * 255\n",
    "  # merge the alpha channel back\n",
    "  alpha_im = cv2.merge([b, g, r, a], 4)\n",
    "  # create a transparent background\n",
    "  bg = np.zeros(alpha_im.shape)\n",
    "  # setup the new mask\n",
    "  new_mask = np.stack([mask, mask, mask, mask], axis=2)\n",
    "  # copy only the foreground color pixels from the original image where mask is set\n",
    "  foreground = np.where(new_mask, alpha_im, bg).astype(np.uint8)\n",
    "\n",
    "  return foreground\n",
    "\n",
    "def remove_background(model, input_file):\n",
    "  input_image = Image.open(input_file)\n",
    "  preprocess = transforms.Compose([\n",
    "      transforms.ToTensor(),\n",
    "      transforms.Normalize(mean=[0.485, 0.456, 0.406], std=[0.229, 0.224, 0.225]),\n",
    "  ])\n",
    "\n",
    "  input_tensor = preprocess(input_image)\n",
    "  input_batch = input_tensor.unsqueeze(0) # create a mini-batch as expected by the model\n",
    "\n",
    "  # move the input and model to GPU for speed if available\n",
    "  if torch.cuda.is_available():\n",
    "      input_batch = input_batch.to('cuda')\n",
    "      model.to('cuda')\n",
    "\n",
    "  with torch.no_grad():\n",
    "      output = model(input_batch)['out'][0]\n",
    "  output_predictions = output.argmax(0)\n",
    "\n",
    "  # create a binary (black and white) mask of the profile foreground\n",
    "  mask = output_predictions.byte().cpu().numpy()\n",
    "  background = np.zeros(mask.shape)\n",
    "  bin_mask = np.where(mask, 255, background).astype(np.uint8)\n",
    "\n",
    "  foreground = make_transparent_foreground(input_image ,bin_mask)\n",
    "\n",
    "  return foreground, bin_mask"
   ]
  },
  {
   "cell_type": "code",
   "execution_count": null,
   "metadata": {},
   "outputs": [],
   "source": [
    "import os\n",
    "\n",
    "import numpy as np \n",
    "deeplab_model = load_model()\n",
    "\n",
    "index = 0\n",
    "\n",
    "path = \"/Users/karandeepsingh/Programming/Python/ASL-Classifier/Datasets/testing/asl_alphabet_test\" \n",
    "\n",
    "for folder in os.listdir(path): # macOS creates a .DS_Store file, which may cause issues, thus it is removed \n",
    "    print(folder)\n",
    "    try:\n",
    "        location = path + \"/\" + \".DS_Store\"\n",
    "        os.remove(location) \n",
    "    except:\n",
    "        for file in os.listdir(path + \"/\" + folder): \n",
    "            print(file)\n",
    "            try:\n",
    "                location = path + \"/\" + folder + \"/\" + \".DS_Store\"\n",
    "                os.remove(location) \n",
    "            except:\n",
    "                print(index) \n",
    "                index += 1\n",
    "                foreground, _ = remove_background(deeplab_model, path + \"/\" + folder + \"/\" + file)\n",
    "                Image.fromarray(foreground).save(\"/Users/karandeepsingh/Programming/Python/ASL-Classifier/Datasets/testing/asl_alphabet_test/\" + folder + \"/\" + file + \".png\")"
   ]
  },
  {
   "cell_type": "code",
   "execution_count": null,
   "metadata": {},
   "outputs": [],
   "source": []
  }
 ],
 "metadata": {
  "colab": {
   "collapsed_sections": [],
   "name": "Remove_Image_Background_DeepLabV3.ipynb",
   "provenance": []
  },
  "kernelspec": {
   "display_name": "Python 3 (ipykernel)",
   "language": "python",
   "name": "python3"
  },
  "language_info": {
   "codemirror_mode": {
    "name": "ipython",
    "version": 3
   },
   "file_extension": ".py",
   "mimetype": "text/x-python",
   "name": "python",
   "nbconvert_exporter": "python",
   "pygments_lexer": "ipython3",
   "version": "3.8.13"
  }
 },
 "nbformat": 4,
 "nbformat_minor": 4
}
